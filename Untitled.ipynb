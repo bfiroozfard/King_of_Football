{
 "cells": [
  {
   "cell_type": "code",
   "execution_count": 1,
   "metadata": {},
   "outputs": [],
   "source": [
    "import pandas as pd\n",
    "import numpy as numpy\n",
    "import scipy.stats as stats\n",
    "import matplotlib.pyplot as plt"
   ]
  },
  {
   "cell_type": "code",
   "execution_count": 2,
   "metadata": {},
   "outputs": [
    {
     "data": {
      "text/html": [
       "<div>\n",
       "<style scoped>\n",
       "    .dataframe tbody tr th:only-of-type {\n",
       "        vertical-align: middle;\n",
       "    }\n",
       "\n",
       "    .dataframe tbody tr th {\n",
       "        vertical-align: top;\n",
       "    }\n",
       "\n",
       "    .dataframe thead th {\n",
       "        text-align: right;\n",
       "    }\n",
       "</style>\n",
       "<table border=\"1\" class=\"dataframe\">\n",
       "  <thead>\n",
       "    <tr style=\"text-align: right;\">\n",
       "      <th></th>\n",
       "      <th>Unnamed: 0</th>\n",
       "      <th>date</th>\n",
       "      <th>home_team</th>\n",
       "      <th>away_team</th>\n",
       "      <th>home_score</th>\n",
       "      <th>away_score</th>\n",
       "      <th>tournament</th>\n",
       "      <th>city</th>\n",
       "      <th>country</th>\n",
       "      <th>neutral</th>\n",
       "      <th>...</th>\n",
       "      <th>month</th>\n",
       "      <th>goal_diff</th>\n",
       "      <th>home_result</th>\n",
       "      <th>lat</th>\n",
       "      <th>lng</th>\n",
       "      <th>host_continent</th>\n",
       "      <th>home_continent</th>\n",
       "      <th>away_continent</th>\n",
       "      <th>result</th>\n",
       "      <th>results</th>\n",
       "    </tr>\n",
       "  </thead>\n",
       "  <tbody>\n",
       "    <tr>\n",
       "      <th>0</th>\n",
       "      <td>0</td>\n",
       "      <td>1950-01-24</td>\n",
       "      <td>Zambia</td>\n",
       "      <td>DR Congo</td>\n",
       "      <td>1</td>\n",
       "      <td>0</td>\n",
       "      <td>Friendly</td>\n",
       "      <td>Kitwe</td>\n",
       "      <td>Northern Rhodesia</td>\n",
       "      <td>False</td>\n",
       "      <td>...</td>\n",
       "      <td>1</td>\n",
       "      <td>1</td>\n",
       "      <td>win</td>\n",
       "      <td>NaN</td>\n",
       "      <td>NaN</td>\n",
       "      <td>Others</td>\n",
       "      <td>Africa</td>\n",
       "      <td>Africa</td>\n",
       "      <td>NaN</td>\n",
       "      <td>Zambia</td>\n",
       "    </tr>\n",
       "    <tr>\n",
       "      <th>1</th>\n",
       "      <td>1</td>\n",
       "      <td>1950-02-17</td>\n",
       "      <td>Egypt</td>\n",
       "      <td>Greece</td>\n",
       "      <td>2</td>\n",
       "      <td>0</td>\n",
       "      <td>Friendly</td>\n",
       "      <td>Cairo</td>\n",
       "      <td>Egypt</td>\n",
       "      <td>False</td>\n",
       "      <td>...</td>\n",
       "      <td>2</td>\n",
       "      <td>2</td>\n",
       "      <td>win</td>\n",
       "      <td>NaN</td>\n",
       "      <td>NaN</td>\n",
       "      <td>Africa</td>\n",
       "      <td>Africa</td>\n",
       "      <td>Europe</td>\n",
       "      <td>NaN</td>\n",
       "      <td>Egypt</td>\n",
       "    </tr>\n",
       "    <tr>\n",
       "      <th>2</th>\n",
       "      <td>2</td>\n",
       "      <td>1950-02-26</td>\n",
       "      <td>Bolivia</td>\n",
       "      <td>Chile</td>\n",
       "      <td>2</td>\n",
       "      <td>0</td>\n",
       "      <td>Friendly</td>\n",
       "      <td>La Paz</td>\n",
       "      <td>Bolivia</td>\n",
       "      <td>False</td>\n",
       "      <td>...</td>\n",
       "      <td>2</td>\n",
       "      <td>2</td>\n",
       "      <td>win</td>\n",
       "      <td>NaN</td>\n",
       "      <td>NaN</td>\n",
       "      <td>South America</td>\n",
       "      <td>South America</td>\n",
       "      <td>South America</td>\n",
       "      <td>NaN</td>\n",
       "      <td>Bolivia</td>\n",
       "    </tr>\n",
       "    <tr>\n",
       "      <th>3</th>\n",
       "      <td>3</td>\n",
       "      <td>1950-02-26</td>\n",
       "      <td>Croatia</td>\n",
       "      <td>Serbia</td>\n",
       "      <td>4</td>\n",
       "      <td>1</td>\n",
       "      <td>Friendly</td>\n",
       "      <td>Zagreb</td>\n",
       "      <td>Yugoslavia</td>\n",
       "      <td>False</td>\n",
       "      <td>...</td>\n",
       "      <td>2</td>\n",
       "      <td>3</td>\n",
       "      <td>win</td>\n",
       "      <td>NaN</td>\n",
       "      <td>NaN</td>\n",
       "      <td>Europe</td>\n",
       "      <td>Europe</td>\n",
       "      <td>Europe</td>\n",
       "      <td>NaN</td>\n",
       "      <td>Croatia</td>\n",
       "    </tr>\n",
       "    <tr>\n",
       "      <th>4</th>\n",
       "      <td>4</td>\n",
       "      <td>1950-03-05</td>\n",
       "      <td>Italy</td>\n",
       "      <td>Belgium</td>\n",
       "      <td>3</td>\n",
       "      <td>1</td>\n",
       "      <td>Friendly</td>\n",
       "      <td>Bologna</td>\n",
       "      <td>Italy</td>\n",
       "      <td>False</td>\n",
       "      <td>...</td>\n",
       "      <td>3</td>\n",
       "      <td>2</td>\n",
       "      <td>win</td>\n",
       "      <td>NaN</td>\n",
       "      <td>NaN</td>\n",
       "      <td>Europe</td>\n",
       "      <td>Europe</td>\n",
       "      <td>Europe</td>\n",
       "      <td>NaN</td>\n",
       "      <td>Italy</td>\n",
       "    </tr>\n",
       "  </tbody>\n",
       "</table>\n",
       "<p>5 rows × 21 columns</p>\n",
       "</div>"
      ],
      "text/plain": [
       "   Unnamed: 0        date home_team away_team  home_score  away_score  \\\n",
       "0           0  1950-01-24    Zambia  DR Congo           1           0   \n",
       "1           1  1950-02-17     Egypt    Greece           2           0   \n",
       "2           2  1950-02-26   Bolivia     Chile           2           0   \n",
       "3           3  1950-02-26   Croatia    Serbia           4           1   \n",
       "4           4  1950-03-05     Italy   Belgium           3           1   \n",
       "\n",
       "  tournament     city            country  neutral  ...  month  goal_diff  \\\n",
       "0   Friendly    Kitwe  Northern Rhodesia    False  ...      1          1   \n",
       "1   Friendly    Cairo              Egypt    False  ...      2          2   \n",
       "2   Friendly   La Paz            Bolivia    False  ...      2          2   \n",
       "3   Friendly   Zagreb         Yugoslavia    False  ...      2          3   \n",
       "4   Friendly  Bologna              Italy    False  ...      3          2   \n",
       "\n",
       "   home_result lat  lng  host_continent home_continent away_continent result  \\\n",
       "0          win NaN  NaN          Others         Africa         Africa    NaN   \n",
       "1          win NaN  NaN          Africa         Africa         Europe    NaN   \n",
       "2          win NaN  NaN   South America  South America  South America    NaN   \n",
       "3          win NaN  NaN          Europe         Europe         Europe    NaN   \n",
       "4          win NaN  NaN          Europe         Europe         Europe    NaN   \n",
       "\n",
       "   results  \n",
       "0   Zambia  \n",
       "1    Egypt  \n",
       "2  Bolivia  \n",
       "3  Croatia  \n",
       "4    Italy  \n",
       "\n",
       "[5 rows x 21 columns]"
      ]
     },
     "execution_count": 2,
     "metadata": {},
     "output_type": "execute_result"
    }
   ],
   "source": [
    "pwii_combined_data = pd.read_csv('post_WWII_data_1002.csv')\n",
    "pwii_combined_data.head()"
   ]
  },
  {
   "cell_type": "code",
   "execution_count": 6,
   "metadata": {},
   "outputs": [],
   "source": [
    "bins = [0,1950,1960,1970,1980,1990,2000,2010,2020]\n",
    "labels = ['before 50',\"50's\",\"60's\",\"70's\",\"80's\",\"90's\",\"2000's\",\"2010's\"]\n",
    "pwii_combined_data['era'] = pd.cut(pwii_combined_data['year'], bins=bins, labels=labels)"
   ]
  },
  {
   "cell_type": "code",
   "execution_count": 7,
   "metadata": {},
   "outputs": [
    {
     "data": {
      "text/html": [
       "<div>\n",
       "<style scoped>\n",
       "    .dataframe tbody tr th:only-of-type {\n",
       "        vertical-align: middle;\n",
       "    }\n",
       "\n",
       "    .dataframe tbody tr th {\n",
       "        vertical-align: top;\n",
       "    }\n",
       "\n",
       "    .dataframe thead th {\n",
       "        text-align: right;\n",
       "    }\n",
       "</style>\n",
       "<table border=\"1\" class=\"dataframe\">\n",
       "  <thead>\n",
       "    <tr style=\"text-align: right;\">\n",
       "      <th></th>\n",
       "      <th>Unnamed: 0</th>\n",
       "      <th>date</th>\n",
       "      <th>home_team</th>\n",
       "      <th>away_team</th>\n",
       "      <th>home_score</th>\n",
       "      <th>away_score</th>\n",
       "      <th>tournament</th>\n",
       "      <th>city</th>\n",
       "      <th>country</th>\n",
       "      <th>neutral</th>\n",
       "      <th>...</th>\n",
       "      <th>goal_diff</th>\n",
       "      <th>home_result</th>\n",
       "      <th>lat</th>\n",
       "      <th>lng</th>\n",
       "      <th>host_continent</th>\n",
       "      <th>home_continent</th>\n",
       "      <th>away_continent</th>\n",
       "      <th>result</th>\n",
       "      <th>results</th>\n",
       "      <th>era</th>\n",
       "    </tr>\n",
       "  </thead>\n",
       "  <tbody>\n",
       "    <tr>\n",
       "      <th>0</th>\n",
       "      <td>0</td>\n",
       "      <td>1950-01-24</td>\n",
       "      <td>Zambia</td>\n",
       "      <td>DR Congo</td>\n",
       "      <td>1</td>\n",
       "      <td>0</td>\n",
       "      <td>Friendly</td>\n",
       "      <td>Kitwe</td>\n",
       "      <td>Northern Rhodesia</td>\n",
       "      <td>False</td>\n",
       "      <td>...</td>\n",
       "      <td>1</td>\n",
       "      <td>win</td>\n",
       "      <td>NaN</td>\n",
       "      <td>NaN</td>\n",
       "      <td>Others</td>\n",
       "      <td>Africa</td>\n",
       "      <td>Africa</td>\n",
       "      <td>NaN</td>\n",
       "      <td>Zambia</td>\n",
       "      <td>before 50</td>\n",
       "    </tr>\n",
       "    <tr>\n",
       "      <th>1</th>\n",
       "      <td>1</td>\n",
       "      <td>1950-02-17</td>\n",
       "      <td>Egypt</td>\n",
       "      <td>Greece</td>\n",
       "      <td>2</td>\n",
       "      <td>0</td>\n",
       "      <td>Friendly</td>\n",
       "      <td>Cairo</td>\n",
       "      <td>Egypt</td>\n",
       "      <td>False</td>\n",
       "      <td>...</td>\n",
       "      <td>2</td>\n",
       "      <td>win</td>\n",
       "      <td>NaN</td>\n",
       "      <td>NaN</td>\n",
       "      <td>Africa</td>\n",
       "      <td>Africa</td>\n",
       "      <td>Europe</td>\n",
       "      <td>NaN</td>\n",
       "      <td>Egypt</td>\n",
       "      <td>before 50</td>\n",
       "    </tr>\n",
       "    <tr>\n",
       "      <th>2</th>\n",
       "      <td>2</td>\n",
       "      <td>1950-02-26</td>\n",
       "      <td>Bolivia</td>\n",
       "      <td>Chile</td>\n",
       "      <td>2</td>\n",
       "      <td>0</td>\n",
       "      <td>Friendly</td>\n",
       "      <td>La Paz</td>\n",
       "      <td>Bolivia</td>\n",
       "      <td>False</td>\n",
       "      <td>...</td>\n",
       "      <td>2</td>\n",
       "      <td>win</td>\n",
       "      <td>NaN</td>\n",
       "      <td>NaN</td>\n",
       "      <td>South America</td>\n",
       "      <td>South America</td>\n",
       "      <td>South America</td>\n",
       "      <td>NaN</td>\n",
       "      <td>Bolivia</td>\n",
       "      <td>before 50</td>\n",
       "    </tr>\n",
       "    <tr>\n",
       "      <th>3</th>\n",
       "      <td>3</td>\n",
       "      <td>1950-02-26</td>\n",
       "      <td>Croatia</td>\n",
       "      <td>Serbia</td>\n",
       "      <td>4</td>\n",
       "      <td>1</td>\n",
       "      <td>Friendly</td>\n",
       "      <td>Zagreb</td>\n",
       "      <td>Yugoslavia</td>\n",
       "      <td>False</td>\n",
       "      <td>...</td>\n",
       "      <td>3</td>\n",
       "      <td>win</td>\n",
       "      <td>NaN</td>\n",
       "      <td>NaN</td>\n",
       "      <td>Europe</td>\n",
       "      <td>Europe</td>\n",
       "      <td>Europe</td>\n",
       "      <td>NaN</td>\n",
       "      <td>Croatia</td>\n",
       "      <td>before 50</td>\n",
       "    </tr>\n",
       "    <tr>\n",
       "      <th>4</th>\n",
       "      <td>4</td>\n",
       "      <td>1950-03-05</td>\n",
       "      <td>Italy</td>\n",
       "      <td>Belgium</td>\n",
       "      <td>3</td>\n",
       "      <td>1</td>\n",
       "      <td>Friendly</td>\n",
       "      <td>Bologna</td>\n",
       "      <td>Italy</td>\n",
       "      <td>False</td>\n",
       "      <td>...</td>\n",
       "      <td>2</td>\n",
       "      <td>win</td>\n",
       "      <td>NaN</td>\n",
       "      <td>NaN</td>\n",
       "      <td>Europe</td>\n",
       "      <td>Europe</td>\n",
       "      <td>Europe</td>\n",
       "      <td>NaN</td>\n",
       "      <td>Italy</td>\n",
       "      <td>before 50</td>\n",
       "    </tr>\n",
       "  </tbody>\n",
       "</table>\n",
       "<p>5 rows × 22 columns</p>\n",
       "</div>"
      ],
      "text/plain": [
       "   Unnamed: 0        date home_team away_team  home_score  away_score  \\\n",
       "0           0  1950-01-24    Zambia  DR Congo           1           0   \n",
       "1           1  1950-02-17     Egypt    Greece           2           0   \n",
       "2           2  1950-02-26   Bolivia     Chile           2           0   \n",
       "3           3  1950-02-26   Croatia    Serbia           4           1   \n",
       "4           4  1950-03-05     Italy   Belgium           3           1   \n",
       "\n",
       "  tournament     city            country  neutral  ...  goal_diff  \\\n",
       "0   Friendly    Kitwe  Northern Rhodesia    False  ...          1   \n",
       "1   Friendly    Cairo              Egypt    False  ...          2   \n",
       "2   Friendly   La Paz            Bolivia    False  ...          2   \n",
       "3   Friendly   Zagreb         Yugoslavia    False  ...          3   \n",
       "4   Friendly  Bologna              Italy    False  ...          2   \n",
       "\n",
       "   home_result  lat lng  host_continent  home_continent away_continent result  \\\n",
       "0          win  NaN NaN          Others          Africa         Africa    NaN   \n",
       "1          win  NaN NaN          Africa          Africa         Europe    NaN   \n",
       "2          win  NaN NaN   South America   South America  South America    NaN   \n",
       "3          win  NaN NaN          Europe          Europe         Europe    NaN   \n",
       "4          win  NaN NaN          Europe          Europe         Europe    NaN   \n",
       "\n",
       "   results        era  \n",
       "0   Zambia  before 50  \n",
       "1    Egypt  before 50  \n",
       "2  Bolivia  before 50  \n",
       "3  Croatia  before 50  \n",
       "4    Italy  before 50  \n",
       "\n",
       "[5 rows x 22 columns]"
      ]
     },
     "execution_count": 7,
     "metadata": {},
     "output_type": "execute_result"
    }
   ],
   "source": [
    "pwii_combined_data.head()"
   ]
  },
  {
   "cell_type": "code",
   "execution_count": 8,
   "metadata": {},
   "outputs": [
    {
     "ename": "NameError",
     "evalue": "name 'pwii_overview_combined_ranked' is not defined",
     "output_type": "error",
     "traceback": [
      "\u001b[0;31m---------------------------------------------------------------------------\u001b[0m",
      "\u001b[0;31mNameError\u001b[0m                                 Traceback (most recent call last)",
      "\u001b[0;32m<ipython-input-8-f7ca9def9fb2>\u001b[0m in \u001b[0;36m<module>\u001b[0;34m\u001b[0m\n\u001b[0;32m----> 1\u001b[0;31m \u001b[0mbefore_50\u001b[0m \u001b[0;34m=\u001b[0m \u001b[0mpwii_overview_combined_ranked\u001b[0m\u001b[0;34m.\u001b[0m\u001b[0mloc\u001b[0m\u001b[0;34m[\u001b[0m\u001b[0mpwii_combined_data\u001b[0m\u001b[0;34m[\u001b[0m\u001b[0;34m'era'\u001b[0m\u001b[0;34m]\u001b[0m\u001b[0;34m==\u001b[0m \u001b[0;34m'before 50'\u001b[0m\u001b[0;34m]\u001b[0m\u001b[0;34m\u001b[0m\u001b[0;34m\u001b[0m\u001b[0m\n\u001b[0m\u001b[1;32m      2\u001b[0m \u001b[0mbefore_50\u001b[0m\u001b[0;34m.\u001b[0m\u001b[0mhead\u001b[0m\u001b[0;34m(\u001b[0m\u001b[0;34m)\u001b[0m\u001b[0;34m\u001b[0m\u001b[0;34m\u001b[0m\u001b[0m\n",
      "\u001b[0;31mNameError\u001b[0m: name 'pwii_overview_combined_ranked' is not defined"
     ]
    }
   ],
   "source": [
    "before_50 = pwii_overview_combined_ranked.loc[pwii_combined_data['era']== 'before 50']\n",
    "before_50.head()"
   ]
  },
  {
   "cell_type": "code",
   "execution_count": null,
   "metadata": {},
   "outputs": [],
   "source": [
    "pwii_combined_data['total_goals']=pwii_combined_data.home_score + pwii_combined_data.away_score"
   ]
  },
  {
   "cell_type": "code",
   "execution_count": null,
   "metadata": {},
   "outputs": [],
   "source": [
    "pwii_wins = pwii_combined_data.results.value_counts()\n",
    "pwii_wins_df = pd.DataFrame(pwii_wins)\n",
    "pwii_wins_df = pwii_wins_df.reset_index()\n",
    "pwii_wins_df = pwii_wins_df.rename(columns={'index':'team'})\n",
    "pwii_wins_df.head()"
   ]
  },
  {
   "cell_type": "code",
   "execution_count": null,
   "metadata": {},
   "outputs": [],
   "source": [
    "pwii_grouped_home = pwii_combined_data.groupby('home_team',as_index=False).sum().drop(columns=['Unnamed: 0','neutral','year','month','goal_diff','lat','lng','result'])\n",
    "pwii_grouped_home_score = pwii_grouped_home.rename(columns={'home_score':'home_goals','away_score':'home_lost_goals','total_goals':'home_goals_per_game'})\n",
    "\n",
    "pwii_grouped_home_score.head()"
   ]
  },
  {
   "cell_type": "code",
   "execution_count": null,
   "metadata": {},
   "outputs": [],
   "source": [
    "pwii_grouped_away = pwii_combined_data.groupby('away_team',as_index=False).sum().drop(columns=['Unnamed: 0','neutral','year','month','goal_diff','lat','lng','result'])\n",
    "pwii_grouped_away_score = pwii_grouped_away.rename(columns={'home_score':'away_lost_goals','away_score':'away_goals','total_goals':'away_goals_per_game'})\n",
    "pwii_grouped_away_score.head()"
   ]
  },
  {
   "cell_type": "code",
   "execution_count": null,
   "metadata": {},
   "outputs": [],
   "source": [
    "pwii_overview_score = pd.merge(pwii_grouped_home_score,pwii_grouped_away_score,left_on='home_team',right_on='away_team',how='outer')\n",
    "pwii_overview_score.head()"
   ]
  },
  {
   "cell_type": "code",
   "execution_count": null,
   "metadata": {},
   "outputs": [],
   "source": [
    "pwii_grouped_home_count = pwii_combined_data.groupby('home_team',as_index=False).count().drop(columns=['Unnamed: 0','neutral','month','goal_diff','lat','lng',\n",
    "                                                                       'date','away_team','home_score','away_score','tournament','city',\n",
    "                                                                       'country','neutral','home_result','away_continent','results',\n",
    "                                                                       'total_goals','host_continent','result'])\n",
    "pwii_grouped_home_count.head()\n",
    "\n"
   ]
  },
  {
   "cell_type": "code",
   "execution_count": null,
   "metadata": {},
   "outputs": [],
   "source": [
    "pwii_grouped_away_count = pwii_combined_data.groupby('away_team',as_index=False).count().drop(columns=['Unnamed: 0','neutral','month','goal_diff','lat','lng',\n",
    "                                                                       'date','home_team','home_score','away_score','tournament','city',\n",
    "                                                                       'country','neutral','home_result','home_continent','results',\n",
    "                                                                       'total_goals','host_continent','result'])\n"
   ]
  },
  {
   "cell_type": "code",
   "execution_count": null,
   "metadata": {},
   "outputs": [],
   "source": [
    "pwii_overview_count = pd.merge(pwii_grouped_home_count,pwii_grouped_away_count, left_on='home_team',right_on='away_team',how='outer')\n",
    "pwii_overview_count = pwii_overview_count.rename(columns={'home_continent':'home_game_count','away_continent':'away_game_count'})"
   ]
  },
  {
   "cell_type": "code",
   "execution_count": null,
   "metadata": {},
   "outputs": [],
   "source": [
    "pwii_overview_combined = pd.merge(pwii_overview_count,pwii_overview_score,on=['home_team','away_team'],how='outer')\n",
    "pwii_overview_combined = pwii_overview_combined.rename(columns={'home_team':'team'})\n"
   ]
  },
  {
   "cell_type": "code",
   "execution_count": null,
   "metadata": {},
   "outputs": [],
   "source": [
    "pwii_overview_combined['total_goals']=pwii_overview_combined.home_goals + pwii_overview_combined.away_goals\n",
    "pwii_overview_combined['total_games']=pwii_overview_combined.home_game_count + pwii_overview_combined.away_game_count\n"
   ]
  },
  {
   "cell_type": "code",
   "execution_count": null,
   "metadata": {},
   "outputs": [],
   "source": [
    "pwii_overview_combined_wins = pd.merge(pwii_overview_combined,pwii_wins_df,how='outer')\n"
   ]
  },
  {
   "cell_type": "code",
   "execution_count": null,
   "metadata": {},
   "outputs": [],
   "source": [
    "pwii_overview_combined_wins['winning_rate']=pwii_overview_combined_wins.results / pwii_overview_combined_wins.total_games\n",
    "pwii_overview_combined_ranked = pwii_overview_combined_wins.sort_values(by='winning_rate',ascending=False)\n"
   ]
  },
  {
   "cell_type": "code",
   "execution_count": null,
   "metadata": {},
   "outputs": [],
   "source": [
    "pwii_overview_combined_ranked.to_csv('pwii_overview_ranked_1003.csv')\n",
    "pwii_overview_combined_ranked.head()"
   ]
  },
  {
   "cell_type": "code",
   "execution_count": null,
   "metadata": {},
   "outputs": [],
   "source": [
    "scoped_down = pwii_overview_combined_ranked.loc[pwii_overview_combined_ranked['total_games'] >= 100, :]\n"
   ]
  },
  {
   "cell_type": "code",
   "execution_count": null,
   "metadata": {},
   "outputs": [],
   "source": [
    "top_30 = scoped_down.iloc[:30, :]\n"
   ]
  },
  {
   "cell_type": "code",
   "execution_count": null,
   "metadata": {},
   "outputs": [],
   "source": [
    "before_50.loc[before_50['team']=='Brazil', ['team','winning_rate']]\n"
   ]
  },
  {
   "cell_type": "code",
   "execution_count": null,
   "metadata": {},
   "outputs": [],
   "source": [
    "fig, ax = plt.subplots(figsize = (10,8))\n",
    "ax.barh(top_30['team'], top_30['winning_rate'],align='center')\n",
    "plt.title('Top 30 Countries Post WWII')\n",
    "plt.show()"
   ]
  },
  {
   "cell_type": "code",
   "execution_count": null,
   "metadata": {},
   "outputs": [],
   "source": [
    "decade_50 = pwii_combined_data.loc[pwii_combined_data['era']== \"50's\"]"
   ]
  },
  {
   "cell_type": "code",
   "execution_count": null,
   "metadata": {},
   "outputs": [],
   "source": [
    "pwii_combined_data['total_goals']=pwii_combined_data.home_score + pwii_combined_data.away_score"
   ]
  },
  {
   "cell_type": "code",
   "execution_count": null,
   "metadata": {},
   "outputs": [],
   "source": [
    "pwii_grouped_home = pwii_combined_data.groupby('home_team',as_index=False).sum().drop(columns=['Unnamed: 0','neutral','year','month','goal_diff','lat','lng','result'])\n",
    "pwii_grouped_home_score = pwii_grouped_home.rename(columns={'home_score':'home_goals','away_score':'home_lost_goals','total_goals':'home_goals_per_game'})\n"
   ]
  },
  {
   "cell_type": "code",
   "execution_count": null,
   "metadata": {},
   "outputs": [],
   "source": [
    "pwii_grouped_away = pwii_combined_data.groupby('away_team',as_index=False).sum().drop(columns=['Unnamed: 0','neutral','year','month','goal_diff','lat','lng'])\n",
    "pwii_grouped_away_score = pwii_grouped_away.rename(columns={'home_score':'away_lost_goals','away_score':'away_goals','total_goals':'away_goals_per_game'})\n"
   ]
  },
  {
   "cell_type": "code",
   "execution_count": null,
   "metadata": {},
   "outputs": [],
   "source": [
    "pwii_overview_score = pd.merge(pwii_grouped_home_score,pwii_grouped_away_score,left_on='home_team',right_on='away_team',how='outer')\n"
   ]
  },
  {
   "cell_type": "code",
   "execution_count": null,
   "metadata": {},
   "outputs": [],
   "source": [
    "pwii_grouped_home_count = pwii_combined_data.groupby('home_team',as_index=False).count().drop(columns=['Unnamed: 0','neutral','month','goal_diff','lat','lng',\n",
    "                                                                       'date','away_team','home_score','away_score','tournament','city',\n",
    "                                                                       'country','neutral','home_result','away_continent','results',\n",
    "                                                                       'total_goals','host_continent'])\n"
   ]
  },
  {
   "cell_type": "code",
   "execution_count": null,
   "metadata": {},
   "outputs": [],
   "source": [
    "pwii_grouped_away_count = pwii_combined_data.groupby('away_team',as_index=False).count().drop(columns=['Unnamed: 0','neutral','month','goal_diff','lat','lng',\n",
    "                                                                       'date','home_team','home_score','away_score','tournament','city',\n",
    "                                                                       'country','neutral','home_result','home_continent','results',\n",
    "                                                                       'total_goals','host_continent','result'])\n"
   ]
  },
  {
   "cell_type": "code",
   "execution_count": null,
   "metadata": {},
   "outputs": [],
   "source": [
    "pwii_overview_count = pd.merge(pwii_grouped_home_count,pwii_grouped_away_count, left_on='home_team',right_on='away_team',how='outer')\n",
    "pwii_overview_count = pwii_overview_count.rename(columns={'home_continent':'home_game_count','away_continent':'away_game_count'})"
   ]
  },
  {
   "cell_type": "code",
   "execution_count": null,
   "metadata": {},
   "outputs": [],
   "source": [
    "pwii_overview_combined = pd.merge(pwii_overview_count,pwii_overview_score,on=['home_team','away_team'],how='outer')\n",
    "pwii_overview_combined = pwii_overview_combined.rename(columns={'home_team':'team'})\n"
   ]
  },
  {
   "cell_type": "code",
   "execution_count": null,
   "metadata": {},
   "outputs": [],
   "source": [
    "pwii_overview_combined['total_goals']=pwii_overview_combined.home_goals + pwii_overview_combined.away_goals\n",
    "pwii_overview_combined['total_games']=pwii_overview_combined.home_game_count + pwii_overview_combined.away_game_count\n"
   ]
  },
  {
   "cell_type": "code",
   "execution_count": null,
   "metadata": {},
   "outputs": [],
   "source": [
    "pwii_overview_combined_wins = pd.merge(pwii_overview_combined,pwii_wins_df,how='outer')\n"
   ]
  },
  {
   "cell_type": "code",
   "execution_count": null,
   "metadata": {},
   "outputs": [],
   "source": [
    "pwii_overview_combined_wins['winning_rate']=pwii_overview_combined_wins.results / pwii_overview_combined_wins.total_games\n",
    "pwii_overview_combined_ranked = pwii_overview_combined_wins.sort_values(by='winning_rate',ascending=False)\n"
   ]
  },
  {
   "cell_type": "code",
   "execution_count": null,
   "metadata": {},
   "outputs": [],
   "source": [
    "pwii_overview_combined_ranked.to_csv('pwii_overview_ranked_1003.csv')"
   ]
  },
  {
   "cell_type": "code",
   "execution_count": null,
   "metadata": {},
   "outputs": [],
   "source": [
    "scoped_down = pwii_overview_combined_ranked.loc[pwii_overview_combined_ranked['total_games'] >= 100, :]\n"
   ]
  },
  {
   "cell_type": "code",
   "execution_count": null,
   "metadata": {},
   "outputs": [],
   "source": [
    "top_30 = scoped_down.iloc[:30, :]"
   ]
  },
  {
   "cell_type": "code",
   "execution_count": null,
   "metadata": {},
   "outputs": [],
   "source": [
    "decade_50.head()"
   ]
  },
  {
   "cell_type": "code",
   "execution_count": null,
   "metadata": {},
   "outputs": [],
   "source": [
    "fig, ax = plt.subplots(figsize = (10,8))\n",
    "ax.barh(top_30['team'], top_30['winning_rate'],align='center')\n",
    "plt.title('Top 30 Countries Post WWII')\n",
    "plt.show()"
   ]
  },
  {
   "cell_type": "code",
   "execution_count": null,
   "metadata": {},
   "outputs": [],
   "source": [
    "decade_60s = pwii_combined_data.loc[pwii_combined_data['era']== \"60's\"]"
   ]
  },
  {
   "cell_type": "code",
   "execution_count": null,
   "metadata": {},
   "outputs": [],
   "source": [
    "pwii_combined_data['total_goals']=pwii_combined_data.home_score + pwii_combined_data.away_score"
   ]
  },
  {
   "cell_type": "code",
   "execution_count": null,
   "metadata": {},
   "outputs": [],
   "source": [
    "pwii_grouped_home = pwii_combined_data.groupby('home_team',as_index=False).sum().drop(columns=['Unnamed: 0','neutral','year','month','goal_diff','lat','lng','result'])\n",
    "pwii_grouped_home_score = pwii_grouped_home.rename(columns={'home_score':'home_goals','away_score':'home_lost_goals','total_goals':'home_goals_per_game'})\n"
   ]
  },
  {
   "cell_type": "code",
   "execution_count": null,
   "metadata": {},
   "outputs": [],
   "source": [
    "pwii_grouped_away = pwii_combined_data.groupby('away_team',as_index=False).sum().drop(columns=['Unnamed: 0','neutral','year','month','goal_diff','lat','lng'])\n",
    "pwii_grouped_away_score = pwii_grouped_away.rename(columns={'home_score':'away_lost_goals','away_score':'away_goals','total_goals':'away_goals_per_game'})\n"
   ]
  },
  {
   "cell_type": "code",
   "execution_count": null,
   "metadata": {},
   "outputs": [],
   "source": [
    "pwii_overview_score = pd.merge(pwii_grouped_home_score,pwii_grouped_away_score,left_on='home_team',right_on='away_team',how='outer')\n"
   ]
  },
  {
   "cell_type": "code",
   "execution_count": null,
   "metadata": {},
   "outputs": [],
   "source": [
    "pwii_grouped_home_count = pwii_combined_data.groupby('home_team',as_index=False).count().drop(columns=['Unnamed: 0','neutral','month','goal_diff','lat','lng',\n",
    "                                                                       'date','away_team','home_score','away_score','tournament','city',\n",
    "                                                                       'country','neutral','home_result','away_continent','results',\n",
    "                                                                       'total_goals','host_continent'])\n"
   ]
  },
  {
   "cell_type": "code",
   "execution_count": null,
   "metadata": {},
   "outputs": [],
   "source": [
    "pwii_grouped_away_count = pwii_combined_data.groupby('away_team',as_index=False).count().drop(columns=['Unnamed: 0','neutral','month','goal_diff','lat','lng',\n",
    "                                                                       'date','home_team','home_score','away_score','tournament','city',\n",
    "                                                                       'country','neutral','home_result','home_continent','results',\n",
    "                                                                       'total_goals','host_continent','result'])\n"
   ]
  },
  {
   "cell_type": "code",
   "execution_count": null,
   "metadata": {},
   "outputs": [],
   "source": [
    "pwii_overview_count = pd.merge(pwii_grouped_home_count,pwii_grouped_away_count, left_on='home_team',right_on='away_team',how='outer')\n",
    "pwii_overview_count = pwii_overview_count.rename(columns={'home_continent':'home_game_count','away_continent':'away_game_count'})"
   ]
  },
  {
   "cell_type": "code",
   "execution_count": null,
   "metadata": {},
   "outputs": [],
   "source": []
  },
  {
   "cell_type": "code",
   "execution_count": null,
   "metadata": {},
   "outputs": [],
   "source": []
  },
  {
   "cell_type": "code",
   "execution_count": null,
   "metadata": {},
   "outputs": [],
   "source": []
  },
  {
   "cell_type": "code",
   "execution_count": null,
   "metadata": {},
   "outputs": [],
   "source": []
  },
  {
   "cell_type": "code",
   "execution_count": null,
   "metadata": {},
   "outputs": [],
   "source": [
    "decade_70s = pwii_combined_data.loc[pwii_combined_data['era']== \"70's\"]"
   ]
  },
  {
   "cell_type": "code",
   "execution_count": null,
   "metadata": {},
   "outputs": [],
   "source": [
    "decade_80s = pwii_combined_data.loc[pwii_combined_data['era']== \"80's\"]"
   ]
  },
  {
   "cell_type": "code",
   "execution_count": null,
   "metadata": {},
   "outputs": [],
   "source": [
    "decade_90s = pwii_combined_data.loc[pwii_combined_data['era']== \"90's\"]"
   ]
  },
  {
   "cell_type": "code",
   "execution_count": null,
   "metadata": {},
   "outputs": [],
   "source": [
    "decade_2000s = pwii_combined_data.loc[pwii_combined_data['era']== \"2000's\"]"
   ]
  },
  {
   "cell_type": "code",
   "execution_count": null,
   "metadata": {},
   "outputs": [],
   "source": [
    "decade_2010s = pwii_combined_data.loc[pwii_combined_data['era']== \"2010's\"]\n",
    "decade_2010s.head()"
   ]
  },
  {
   "cell_type": "code",
   "execution_count": null,
   "metadata": {},
   "outputs": [],
   "source": []
  },
  {
   "cell_type": "code",
   "execution_count": null,
   "metadata": {},
   "outputs": [],
   "source": []
  }
 ],
 "metadata": {
  "kernelspec": {
   "display_name": "Python 3",
   "language": "python",
   "name": "python3"
  },
  "language_info": {
   "codemirror_mode": {
    "name": "ipython",
    "version": 3
   },
   "file_extension": ".py",
   "mimetype": "text/x-python",
   "name": "python",
   "nbconvert_exporter": "python",
   "pygments_lexer": "ipython3",
   "version": "3.7.3"
  }
 },
 "nbformat": 4,
 "nbformat_minor": 2
}
